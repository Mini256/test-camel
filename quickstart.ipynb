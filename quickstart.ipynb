{
 "cells": [
  {
   "metadata": {},
   "cell_type": "markdown",
   "source": "# CamelAI + TiDB Demo",
   "id": "37e6711083a248b"
  },
  {
   "metadata": {},
   "cell_type": "markdown",
   "source": "Here is a demo show you how to use CamelAI agent with the memory storage capabilities provided by TiDB.",
   "id": "3ad6bc0cb6c3f777"
  },
  {
   "metadata": {},
   "cell_type": "markdown",
   "source": "### Install dependencies",
   "id": "fa9f8a54f72dc8e7"
  },
  {
   "metadata": {},
   "cell_type": "code",
   "outputs": [],
   "execution_count": null,
   "source": [
    "!rm -rf .venv/lib/python3.11/site-packages/camel*\n",
    "!uv cache clean camel-ai\n",
    "!uv add ../camel\n",
    "!uv sync"
   ],
   "id": "7132fb3edf119799"
  },
  {
   "metadata": {},
   "cell_type": "markdown",
   "source": "### Load the environment variables",
   "id": "e7eaca335ce78cc8"
  },
  {
   "metadata": {},
   "cell_type": "markdown",
   "source": [
    "1. Go to [TiDB Cloud](https://tidbcloud.com/console/clusters)\n",
    "2. Create a serverless cluster in a few seconds\n",
    "3. Setup the environment variables, add the tidb database url and OpenAI API Key to the `.env` file:"
   ],
   "id": "f5dc77d98dbea562"
  },
  {
   "cell_type": "code",
   "id": "8ad24814057057e5",
   "metadata": {
    "ExecuteTime": {
     "end_time": "2025-03-21T08:12:16.333687Z",
     "start_time": "2025-03-21T08:12:16.328225Z"
    }
   },
   "source": [
    "# cp .env.example .env\n",
    "# vi .env"
   ],
   "outputs": [
    {
     "data": {
      "text/plain": [
       "True"
      ]
     },
     "execution_count": 3,
     "metadata": {},
     "output_type": "execute_result"
    }
   ],
   "execution_count": 3
  },
  {
   "metadata": {},
   "cell_type": "code",
   "outputs": [],
   "execution_count": null,
   "source": [
    "import os\n",
    "from dotenv import load_dotenv\n",
    "\n",
    "load_dotenv()"
   ],
   "id": "92a265f34a9dc484"
  },
  {
   "metadata": {},
   "cell_type": "markdown",
   "source": "### Initialize the memory with TiDB",
   "id": "de732aebcb40f6ea"
  },
  {
   "metadata": {},
   "cell_type": "code",
   "outputs": [],
   "execution_count": null,
   "source": [
    "from camel.memories import (\n",
    "    ChatHistoryBlock,\n",
    "    LongtermAgentMemory,\n",
    "    ScoreBasedContextCreator,\n",
    "    VectorDBBlock,\n",
    ")\n",
    "from camel.types import ModelType, OpenAIBackendRole\n",
    "from camel.utils import OpenAITokenCounter\n",
    "from camel.embeddings import OpenAIEmbedding\n",
    "from camel.storages import TiDBStorage\n",
    "\n",
    "embedding =  OpenAIEmbedding()\n",
    "memory = LongtermAgentMemory(\n",
    "    context_creator=ScoreBasedContextCreator(\n",
    "        token_counter=OpenAITokenCounter(ModelType.GPT_4O_MINI),\n",
    "        token_limit=1024,\n",
    "    ),\n",
    "    chat_history_block=ChatHistoryBlock(),\n",
    "    vector_db_block=VectorDBBlock(\n",
    "        storage=TiDBStorage(\n",
    "            url_and_api_key=os.environ[\"DATABASE_URL\"],\n",
    "            vector_dim=embedding.get_output_dim(),\n",
    "            collection_name=\"camel_ai\",\n",
    "        )\n",
    "    ),\n",
    ")"
   ],
   "id": "70b744d585dd7bc7"
  },
  {
   "metadata": {},
   "cell_type": "markdown",
   "source": "### Add records to the memory",
   "id": "c35281608d14d7ea"
  },
  {
   "metadata": {},
   "cell_type": "code",
   "outputs": [],
   "execution_count": null,
   "source": [
    "from camel.messages import BaseMessage\n",
    "from camel.memories import MemoryRecord\n",
    "\n",
    "records = [\n",
    "    MemoryRecord(\n",
    "        message=BaseMessage.make_user_message(\n",
    "            role_name=\"User\",\n",
    "            meta_dict=None,\n",
    "            content=\"What is CAMEL AI?\",\n",
    "        ),\n",
    "        role_at_backend=OpenAIBackendRole.USER,\n",
    "    ),\n",
    "    MemoryRecord(\n",
    "        message=BaseMessage.make_assistant_message(\n",
    "            role_name=\"Agent\",\n",
    "            meta_dict=None,\n",
    "            content=\"CAMEL-AI.org is the 1st LLM multi-agent framework and \"\n",
    "                    \"an open-source community dedicated to finding the scaling law \"\n",
    "                    \"of agents.\",\n",
    "        ),\n",
    "        role_at_backend=OpenAIBackendRole.ASSISTANT,\n",
    "    ),\n",
    "]\n",
    "memory.write_records(records)"
   ],
   "id": "aebba2c70e0f1eee"
  },
  {
   "metadata": {},
   "cell_type": "markdown",
   "source": "### Retrieve the context from the memory",
   "id": "a3f88c3e6297ec58"
  },
  {
   "metadata": {},
   "cell_type": "code",
   "outputs": [],
   "execution_count": null,
   "source": [
    "context, token_count = memory.get_context()\n",
    "\n",
    "print(f\"Retrieved context (token count: {token_count}):\")\n",
    "for message in context:\n",
    "    print(f\"{message}\")"
   ],
   "id": "3f556d0391fa08ab"
  },
  {
   "metadata": {},
   "cell_type": "markdown",
   "source": "### Chat with the agent",
   "id": "cd848b0adbb31d8f"
  },
  {
   "metadata": {},
   "cell_type": "code",
   "outputs": [],
   "execution_count": null,
   "source": [
    "from camel.agents import ChatAgent\n",
    "\n",
    "# Define system message for the agent\n",
    "sys_msg = BaseMessage.make_assistant_message(\n",
    "    role_name='Agent',\n",
    "    content='You are a curious agent wondering about the universe.',\n",
    ")\n",
    "\n",
    "# Initialize agent\n",
    "agent = ChatAgent(system_message=sys_msg)\n",
    "agent.memory = memory  # 👈 Add the memory to the agent.\n",
    "\n",
    "# Define a user message\n",
    "usr_msg = BaseMessage.make_user_message(\n",
    "    role_name='User',\n",
    "    content=\"Tell me which is the 1st LLM multi-agent framework based on what we have discussed\",\n",
    ")\n",
    "\n",
    "# Sending the message to the agent\n",
    "response = agent.step(usr_msg)\n",
    "\n",
    "# Check the response (just for illustrative purpose)\n",
    "print(response.msgs[0].content)"
   ],
   "id": "17874c32d8a98d30"
  }
 ],
 "metadata": {
  "kernelspec": {
   "display_name": ".venv",
   "language": "python",
   "name": "python3"
  },
  "language_info": {
   "codemirror_mode": {
    "name": "ipython",
    "version": 3
   },
   "file_extension": ".py",
   "mimetype": "text/x-python",
   "name": "python",
   "nbconvert_exporter": "python",
   "pygments_lexer": "ipython3",
   "version": "3.11.9"
  }
 },
 "nbformat": 4,
 "nbformat_minor": 5
}
