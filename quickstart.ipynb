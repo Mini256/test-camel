{
 "cells": [
  {
   "metadata": {},
   "cell_type": "markdown",
   "source": "# CamelAI + TiDB Demo",
   "id": "37e6711083a248b"
  },
  {
   "metadata": {},
   "cell_type": "markdown",
   "source": "### Install dependencies",
   "id": "3ad6bc0cb6c3f777"
  },
  {
   "metadata": {},
   "cell_type": "code",
   "source": [
    "!rm -rf .venv/lib/python3.11/site-packages/camel*\n",
    "!uv cache clean camel-ai\n",
    "!uv add ../camel\n",
    "!uv sync"
   ],
   "id": "cb88839dbe60859d",
   "outputs": [],
   "execution_count": null
  },
  {
   "metadata": {},
   "cell_type": "markdown",
   "source": "### Load the environment variables",
   "id": "393298468b9bc298"
  },
  {
   "metadata": {},
   "cell_type": "markdown",
   "source": [
    "1. Go to [TiDB Cloud](https://tidbcloud.com/console/clusters)\n",
    "2. Create a serverless cluster in a few seconds\n",
    "3. Setup the environment variables, add the tidb database url and OpenAI API Key to the `.env` file:"
   ],
   "id": "e7eaca335ce78cc8"
  },
  {
   "metadata": {},
   "cell_type": "code",
   "outputs": [],
   "execution_count": null,
   "source": [
    "!cp .env.example .env\n",
    "!vi .env"
   ],
   "id": "8a6ccda287fae27d"
  },
  {
   "cell_type": "code",
   "id": "8ad24814057057e5",
   "metadata": {
    "ExecuteTime": {
     "end_time": "2025-03-21T06:08:27.202112Z",
     "start_time": "2025-03-21T06:08:27.198474Z"
    }
   },
   "source": [
    "import os\n",
    "from dotenv import load_dotenv\n",
    "\n",
    "load_dotenv()"
   ],
   "outputs": [
    {
     "data": {
      "text/plain": [
       "True"
      ]
     },
     "execution_count": 14,
     "metadata": {},
     "output_type": "execute_result"
    }
   ],
   "execution_count": 14
  },
  {
   "metadata": {},
   "cell_type": "markdown",
   "source": "### Initialize the memory with TiDB",
   "id": "89f6a7ce51facd69"
  },
  {
   "metadata": {
    "ExecuteTime": {
     "end_time": "2025-03-21T06:08:29.419735Z",
     "start_time": "2025-03-21T06:08:29.187673Z"
    }
   },
   "cell_type": "code",
   "source": [
    "from camel.memories import (\n",
    "    ChatHistoryBlock,\n",
    "    LongtermAgentMemory,\n",
    "    ScoreBasedContextCreator,\n",
    "    VectorDBBlock,\n",
    ")\n",
    "from camel.types import ModelType, OpenAIBackendRole\n",
    "from camel.utils import OpenAITokenCounter\n",
    "from camel.embeddings import OpenAIEmbedding\n",
    "from camel.storages import TiDBStorage\n",
    "\n",
    "embedding =  OpenAIEmbedding()\n",
    "memory = LongtermAgentMemory(\n",
    "    context_creator=ScoreBasedContextCreator(\n",
    "        token_counter=OpenAITokenCounter(ModelType.GPT_4O_MINI),\n",
    "        token_limit=1024,\n",
    "    ),\n",
    "    chat_history_block=ChatHistoryBlock(),\n",
    "    vector_db_block=VectorDBBlock(\n",
    "        storage=TiDBStorage(\n",
    "            url_and_api_key=os.environ[\"DATABASE_URL\"],\n",
    "            vector_dim=embedding.get_output_dim()\n",
    "        )\n",
    "    ),\n",
    ")"
   ],
   "id": "68c83bdcbacbdce4",
   "outputs": [],
   "execution_count": 15
  },
  {
   "metadata": {},
   "cell_type": "markdown",
   "source": "### Add records to the memory",
   "id": "f5a6df1856ccde7"
  },
  {
   "metadata": {
    "ExecuteTime": {
     "end_time": "2025-03-21T06:05:31.542236Z",
     "start_time": "2025-03-21T06:05:29.997266Z"
    }
   },
   "cell_type": "code",
   "source": [
    "from camel.messages import BaseMessage\n",
    "from camel.memories import MemoryRecord\n",
    "\n",
    "records = [\n",
    "    MemoryRecord(\n",
    "        message=BaseMessage.make_user_message(\n",
    "            role_name=\"User\",\n",
    "            meta_dict=None,\n",
    "            content=\"What is CAMEL AI?\",\n",
    "        ),\n",
    "        role_at_backend=OpenAIBackendRole.USER,\n",
    "    ),\n",
    "    MemoryRecord(\n",
    "        message=BaseMessage.make_assistant_message(\n",
    "            role_name=\"Agent\",\n",
    "            meta_dict=None,\n",
    "            content=\"CAMEL-AI.org is the 1st LLM multi-agent framework and \"\n",
    "                    \"an open-source community dedicated to finding the scaling law \"\n",
    "                    \"of agents.\",\n",
    "        ),\n",
    "        role_at_backend=OpenAIBackendRole.ASSISTANT,\n",
    "    ),\n",
    "]\n",
    "memory.write_records(records)"
   ],
   "id": "b6be7228d7cffedb",
   "outputs": [],
   "execution_count": 9
  },
  {
   "metadata": {},
   "cell_type": "markdown",
   "source": "### Retrieve the context from the memory",
   "id": "613a135faff36daf"
  },
  {
   "metadata": {
    "ExecuteTime": {
     "end_time": "2025-03-21T06:05:37.294589Z",
     "start_time": "2025-03-21T06:05:36.397241Z"
    }
   },
   "cell_type": "code",
   "source": [
    "context, token_count = memory.get_context()\n",
    "\n",
    "print(f\"Retrieved context (token count: {token_count}):\")\n",
    "for message in context:\n",
    "    print(f\"{message}\")"
   ],
   "id": "a746a68a1974b672",
   "outputs": [
    {
     "name": "stdout",
     "output_type": "stream",
     "text": [
      "Retrieved context (token count: 49):\n",
      "{'role': 'user', 'content': 'What is CAMEL AI?'}\n",
      "{'role': 'assistant', 'content': 'CAMEL-AI.org is the 1st LLM multi-agent framework and an open-source community dedicated to finding the scaling law of agents.'}\n"
     ]
    }
   ],
   "execution_count": 10
  },
  {
   "metadata": {},
   "cell_type": "markdown",
   "source": "### Chat with the agent",
   "id": "1f9072d823443070"
  },
  {
   "metadata": {
    "ExecuteTime": {
     "end_time": "2025-03-21T06:08:42.318946Z",
     "start_time": "2025-03-21T06:08:37.334666Z"
    }
   },
   "cell_type": "code",
   "source": [
    "from camel.agents import ChatAgent\n",
    "\n",
    "# Define system message for the agent\n",
    "sys_msg = BaseMessage.make_assistant_message(\n",
    "    role_name='Agent',\n",
    "    content='You are a curious agent wondering about the universe.',\n",
    ")\n",
    "\n",
    "# Initialize agent\n",
    "agent = ChatAgent(\n",
    "    system_message=sys_msg,\n",
    "    memory=memory             # 👈 Add the memory to the agent.\n",
    ")\n",
    "\n",
    "# Define a user message\n",
    "usr_msg = BaseMessage.make_user_message(\n",
    "    role_name='User',\n",
    "    content=\"Tell me which is the 1st LLM multi-agent framework based on what we have discussed\",\n",
    ")\n",
    "\n",
    "# Sending the message to the agent\n",
    "response = agent.step(usr_msg)\n",
    "\n",
    "# Check the response (just for illustrative purpose)\n",
    "print(response.msgs[0].content)"
   ],
   "id": "b6b54e235a39640d",
   "outputs": [
    {
     "name": "stdout",
     "output_type": "stream",
     "text": [
      "As of my last knowledge update in October 2023, one of the notable early frameworks for multi-agent systems utilizing large language models (LLMs) is **LangChain**. LangChain allows developers to build applications that can leverage LLMs in a multi-agent context, enabling agents to interact, collaborate, and perform tasks collectively.\n",
      "\n",
      "If there are any specific frameworks or developments that have emerged after that date, I would not be aware of them. For the most current information, I recommend checking recent publications or announcements in the field of AI and multi-agent systems.\n"
     ]
    }
   ],
   "execution_count": 16
  }
 ],
 "metadata": {
  "kernelspec": {
   "display_name": ".venv",
   "language": "python",
   "name": "python3"
  },
  "language_info": {
   "codemirror_mode": {
    "name": "ipython",
    "version": 3
   },
   "file_extension": ".py",
   "mimetype": "text/x-python",
   "name": "python",
   "nbconvert_exporter": "python",
   "pygments_lexer": "ipython3",
   "version": "3.11.9"
  }
 },
 "nbformat": 4,
 "nbformat_minor": 5
}
