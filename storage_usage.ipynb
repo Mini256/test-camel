{
 "cells": [
  {
   "metadata": {
    "ExecuteTime": {
     "end_time": "2025-03-21T08:07:59.652857Z",
     "start_time": "2025-03-21T08:07:54.838512Z"
    }
   },
   "cell_type": "code",
   "source": [
    "### Install dependencies\n",
    "!rm -rf .venv/lib/python3.11/site-packages/camel*\n",
    "!uv cache clean camel-ai\n",
    "!uv add ../camel\n",
    "!uv sync"
   ],
   "id": "5f02617239493ede",
   "outputs": [
    {
     "name": "stdout",
     "output_type": "stream",
     "text": [
      "\u001B[2KRemoved 358 files (\u001B[32m3.1MiB\u001B[39m)============] 1/1: camel-ai, 358 files 67 folders removed     \r\n",
      "\u001B[2K\u001B[2mResolved \u001B[1m126 packages\u001B[0m \u001B[2min 3ms\u001B[0m\u001B[0m                                         \u001B[0m\r\n",
      "\u001B[2K\u001B[2mPrepared \u001B[1m1 package\u001B[0m \u001B[2min 633ms\u001B[0m\u001B[0m                                              \r\n",
      "\u001B[2K\u001B[2mInstalled \u001B[1m1 package\u001B[0m \u001B[2min 4ms\u001B[0m\u001B[0mrom file:///Users/liangzhiyuan/Pro\u001B[0m\r\n",
      " \u001B[32m+\u001B[39m \u001B[1mcamel-ai\u001B[0m\u001B[2m==0.2.34 (from file:///Users/liangzhiyuan/Projects/camel)\u001B[0m\r\n",
      "\u001B[2mResolved \u001B[1m126 packages\u001B[0m \u001B[2min 0.96ms\u001B[0m\u001B[0m\r\n",
      "\u001B[2mAudited \u001B[1m119 packages\u001B[0m \u001B[2min 0.12ms\u001B[0m\u001B[0m\r\n"
     ]
    }
   ],
   "execution_count": 1
  },
  {
   "metadata": {
    "ExecuteTime": {
     "end_time": "2025-03-21T08:07:59.671785Z",
     "start_time": "2025-03-21T08:07:59.664338Z"
    }
   },
   "cell_type": "code",
   "source": [
    "import os\n",
    "from dotenv import load_dotenv\n",
    "\n",
    "load_dotenv()"
   ],
   "id": "2e4f4f1f1dd46aed",
   "outputs": [
    {
     "data": {
      "text/plain": [
       "True"
      ]
     },
     "execution_count": 2,
     "metadata": {},
     "output_type": "execute_result"
    }
   ],
   "execution_count": 2
  },
  {
   "cell_type": "code",
   "id": "initial_id",
   "metadata": {
    "collapsed": true,
    "ExecuteTime": {
     "end_time": "2025-03-21T08:08:00.479787Z",
     "start_time": "2025-03-21T08:07:59.764068Z"
    }
   },
   "source": [
    "import os\n",
    "from camel.storages import TiDBStorage, VectorDBQuery, VectorRecord\n",
    "\n",
    "os.environ[\"TIDB_DATABASE_URL\"] = \"mysql+pymysql://root@localhost:4000/test\"\n",
    "\n",
    "# Create an instance of TiDBStorage with dimension = 4\n",
    "tidb_storage = TiDBStorage(\n",
    "    url_and_api_key=(os.getenv(\"DATABASE_URL\"), ''),\n",
    "    vector_dim=4,\n",
    "    collection_name=\"my_collection\"\n",
    ")\n",
    "#\n",
    "# # Add two vector records\n",
    "tidb_storage.add([\n",
    "    VectorRecord(\n",
    "        vector=[-0.1, 0.1, -0.1, 0.1],\n",
    "        payload={'key1': 'value1'},\n",
    "    ),\n",
    "    VectorRecord(\n",
    "        vector=[-0.1, 0.1, 0.1, 0.1],\n",
    "        payload={'key2': 'value2'},\n",
    "    ),\n",
    "])\n",
    "\n",
    "# # Load the remote collection\n",
    "tidb_storage.load()\n",
    "\n",
    "# # Query similar vectors\n",
    "query_results = tidb_storage.query(VectorDBQuery(query_vector=[0.1, 0.2, 0.1, 0.1], top_k=1))\n",
    "for result in query_results:\n",
    "    print(result.record.payload, result.similarity)\n",
    "\n",
    "# # Clear all vectors\n",
    "tidb_storage.clear()"
   ],
   "outputs": [
    {
     "name": "stdout",
     "output_type": "stream",
     "text": [
      "{'key2': 'value2'} 0.5669466755703252\n"
     ]
    }
   ],
   "execution_count": 3
  }
 ],
 "metadata": {
  "kernelspec": {
   "display_name": "Python 3",
   "language": "python",
   "name": "python3"
  },
  "language_info": {
   "codemirror_mode": {
    "name": "ipython",
    "version": 2
   },
   "file_extension": ".py",
   "mimetype": "text/x-python",
   "name": "python",
   "nbconvert_exporter": "python",
   "pygments_lexer": "ipython2",
   "version": "2.7.6"
  }
 },
 "nbformat": 4,
 "nbformat_minor": 5
}
